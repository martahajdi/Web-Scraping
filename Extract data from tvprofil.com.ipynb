{
 "cells": [
  {
   "cell_type": "code",
   "execution_count": 1,
   "metadata": {},
   "outputs": [],
   "source": [
    "import requests\n",
    "from bs4 import BeautifulSoup"
   ]
  },
  {
   "cell_type": "markdown",
   "metadata": {},
   "source": [
    "This project uses two packages requests and BeautifulSoup. <br>\n",
    "Python requests are used to send a GET request to the specified url. <br>\n",
    "Then, content of the response, in unicode, is forwarder to BeatufulSoup which allows to pull data from html. <br>"
   ]
  },
  {
   "cell_type": "markdown",
   "metadata": {},
   "source": [
    "From movie page name of the movie, genre and description is collected. <br>\n",
    "All movie pages on https://tvprofil.com/ have same structure, after a little inspection it is noticed that:\n",
    "* genre is available as content of span tag with itemprop attribute 'genre'\n",
    "* description is availble as content of p tag with itemprop attribute 'description'\n",
    "* movie name is availble as content of h1 tag with itemprop attribute 'name'"
   ]
  },
  {
   "cell_type": "code",
   "execution_count": 2,
   "metadata": {},
   "outputs": [],
   "source": [
    "def get_data_from_page(url: str) -> dict:\n",
    "    \"\"\"\n",
    "    For given url, if response is 200, returns movie name, genre(s) and description.\n",
    "    Otherwise returns empty dictionary.\n",
    "    \"\"\"\n",
    "    response = requests.get(url)\n",
    "    if response.status_code == 200:\n",
    "        soup=BeautifulSoup(response.text, features='html.parser')\n",
    "        genre=[]\n",
    "        for s in soup.find_all('span', attrs={'itemprop':'genre'}):\n",
    "            genre.append(s.text)\n",
    "        desc = soup.find_all('p', attrs={'itemprop':'description'})[0].text\n",
    "        name = soup.find_all('h1', attrs={'itemprop':'name'})[0].text\n",
    "        return { 'name': name, 'genre': genre, 'desc': desc }\n",
    "    else:\n",
    "        return { }"
   ]
  },
  {
   "cell_type": "markdown",
   "metadata": {},
   "source": [
    "Movie urls are available on pages https://tvprofil.com/film/?page=XX&packages=0' where XX is page number. <br>\n",
    "First page has a little different url: https://tvprofil.com/film/?&packages=0. <br>\n",
    "On each page there are 15 movies urls avialable as href in tags a with itemprop 'url_name'. <br>\n",
    "Below code will go through all pages where are available moview urls, then it will collect data from movie urls with above explained function."
   ]
  },
  {
   "cell_type": "code",
   "execution_count": 3,
   "metadata": {},
   "outputs": [],
   "source": [
    "pages_with_not_ok_response = []\n",
    "movie_urls = []\n",
    "movies_with_not_ok_response = []\n",
    "rows = []"
   ]
  },
  {
   "cell_type": "code",
   "execution_count": 4,
   "metadata": {},
   "outputs": [],
   "source": [
    "first_url = 'https://tvprofil.com/film/?&packages=0'\n",
    "first_response = requests.get(first_url)\n",
    "if first_response.status_code==200:\n",
    "    first_t = first_response.text \n",
    "    first_soup = BeautifulSoup(first_t, features='html.parser')\n",
    "    first_mup = first_soup.find_all('a', attrs={'itemprop':'url name'})\n",
    "    for fup in first_mup:\n",
    "        movie_url='https://tvprofil.com' + fup['href']\n",
    "        data_dict = get_data_from_page(movie_url)\n",
    "        if len(data_dict)>0:\n",
    "            rows.append(data_dict)\n",
    "        else:\n",
    "            movies_with_not_ok_response.append(movie_url)\n",
    "else:\n",
    "    pages_with_not_ok_response.append(1)"
   ]
  },
  {
   "cell_type": "code",
   "execution_count": 5,
   "metadata": {},
   "outputs": [],
   "source": [
    "for page in range(2,82):\n",
    "    url='https://tvprofil.com/film/?page=' + str(page) + '&packages=0'\n",
    "    response = requests.get(url)\n",
    "    if response.status_code==200:\n",
    "        t = response.text \n",
    "        soup = BeautifulSoup(t, features='html.parser')\n",
    "        mup = soup.find_all('a', attrs={'itemprop':'url name'})\n",
    "        for up in mup:\n",
    "            movie_url='https://tvprofil.com' + up['href']\n",
    "            data_dict = get_data_from_page(movie_url)\n",
    "            if len(data_dict)>0:\n",
    "                rows.append(data_dict)\n",
    "            else:\n",
    "                movies_with_not_ok_response.append(movie_url)\n",
    "    else:\n",
    "        pages_with_not_ok_response.append(page)"
   ]
  },
  {
   "cell_type": "code",
   "execution_count": 6,
   "metadata": {},
   "outputs": [
    {
     "name": "stdout",
     "output_type": "stream",
     "text": [
      "number of rows: 1215\n",
      "movies_with_not_ok_response:  []\n",
      "pages_with_not_ok_response:  []\n"
     ]
    }
   ],
   "source": [
    "print('number of rows:', len(rows))\n",
    "print('movies_with_not_ok_response: ', movies_with_not_ok_response)\n",
    "print('pages_with_not_ok_response: ', pages_with_not_ok_response)"
   ]
  },
  {
   "cell_type": "code",
   "execution_count": 9,
   "metadata": {},
   "outputs": [],
   "source": [
    "import pandas as pd"
   ]
  },
  {
   "cell_type": "code",
   "execution_count": 10,
   "metadata": {},
   "outputs": [
    {
     "data": {
      "text/html": [
       "<div>\n",
       "<style scoped>\n",
       "    .dataframe tbody tr th:only-of-type {\n",
       "        vertical-align: middle;\n",
       "    }\n",
       "\n",
       "    .dataframe tbody tr th {\n",
       "        vertical-align: top;\n",
       "    }\n",
       "\n",
       "    .dataframe thead th {\n",
       "        text-align: right;\n",
       "    }\n",
       "</style>\n",
       "<table border=\"1\" class=\"dataframe\">\n",
       "  <thead>\n",
       "    <tr style=\"text-align: right;\">\n",
       "      <th></th>\n",
       "      <th>name</th>\n",
       "      <th>genre</th>\n",
       "      <th>desc</th>\n",
       "    </tr>\n",
       "  </thead>\n",
       "  <tbody>\n",
       "    <tr>\n",
       "      <th>0</th>\n",
       "      <td>Ubojice</td>\n",
       "      <td>[akcija, komedija, triler, romantika]</td>\n",
       "      <td>Jen (K. Heigl) je lijepa, privlačna i napušten...</td>\n",
       "    </tr>\n",
       "    <tr>\n",
       "      <th>1</th>\n",
       "      <td>Malci</td>\n",
       "      <td>[animirani, akcija, komedija, obiteljski, krim...</td>\n",
       "      <td>Pridružite se zaštitničkom vođi Kevinu, mladom...</td>\n",
       "    </tr>\n",
       "    <tr>\n",
       "      <th>2</th>\n",
       "      <td>La Llorona</td>\n",
       "      <td>[triler, horor, drama, dokumentarni, ratni, kr...</td>\n",
       "      <td>Alma je ubijena sa svojom djecom tijekom vojno...</td>\n",
       "    </tr>\n",
       "    <tr>\n",
       "      <th>3</th>\n",
       "      <td>Kostim za Nicholasa</td>\n",
       "      <td>[fantazija, animirani, obiteljski]</td>\n",
       "      <td>Film govori o Nicholasu, 10-godišnjem dječaku ...</td>\n",
       "    </tr>\n",
       "    <tr>\n",
       "      <th>4</th>\n",
       "      <td>Lumeni</td>\n",
       "      <td>[drama, komedija, romantika]</td>\n",
       "      <td>U život profesora udovca ulazi nova ljubav, al...</td>\n",
       "    </tr>\n",
       "  </tbody>\n",
       "</table>\n",
       "</div>"
      ],
      "text/plain": [
       "                  name                                              genre  \\\n",
       "0              Ubojice              [akcija, komedija, triler, romantika]   \n",
       "1                Malci  [animirani, akcija, komedija, obiteljski, krim...   \n",
       "2           La Llorona  [triler, horor, drama, dokumentarni, ratni, kr...   \n",
       "3  Kostim za Nicholasa                 [fantazija, animirani, obiteljski]   \n",
       "4               Lumeni                       [drama, komedija, romantika]   \n",
       "\n",
       "                                                desc  \n",
       "0  Jen (K. Heigl) je lijepa, privlačna i napušten...  \n",
       "1  Pridružite se zaštitničkom vođi Kevinu, mladom...  \n",
       "2  Alma je ubijena sa svojom djecom tijekom vojno...  \n",
       "3  Film govori o Nicholasu, 10-godišnjem dječaku ...  \n",
       "4  U život profesora udovca ulazi nova ljubav, al...  "
      ]
     },
     "execution_count": 10,
     "metadata": {},
     "output_type": "execute_result"
    }
   ],
   "source": [
    "df=pd.DataFrame(rows)\n",
    "df.head()"
   ]
  }
 ],
 "metadata": {
  "kernelspec": {
   "display_name": "webscraping_venv",
   "language": "python",
   "name": "webscraping_venv"
  },
  "language_info": {
   "codemirror_mode": {
    "name": "ipython",
    "version": 3
   },
   "file_extension": ".py",
   "mimetype": "text/x-python",
   "name": "python",
   "nbconvert_exporter": "python",
   "pygments_lexer": "ipython3",
   "version": "3.9.0"
  }
 },
 "nbformat": 4,
 "nbformat_minor": 2
}
